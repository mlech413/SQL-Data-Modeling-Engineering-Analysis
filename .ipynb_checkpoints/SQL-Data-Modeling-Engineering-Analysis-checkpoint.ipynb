{
 "cells": [
  {
   "cell_type": "code",
   "execution_count": null,
   "id": "e2599b89",
   "metadata": {},
   "outputs": [],
   "source": [
    "departments\n",
    "-\n",
    "dept_no VARCHAR(30) PK\n",
    "dept_name VARCHAR(30)\n",
    "\n",
    "dept_emp\n",
    "-\n",
    "emp_no INT PK FK -< employees.emp_no\n",
    "dept_no VARCHAR(30) PK FK >- departments.dept_no\n",
    "\n",
    "dept_manager\n",
    "-\n",
    "dept_no VARCHAR(30) PK FK - departments.dept_no\n",
    "emp_no INT PK FK 0- employees.emp_no\n",
    "\n",
    "employees\n",
    "-\n",
    "emp_no INT PK\n",
    "emp_title VARCHAR(30) FK >- titles.title_id\n",
    "birth_date DATE\n",
    "first_name VARCHAR(30)\n",
    "last_name VARCHAR(30)\n",
    "sex CHAR(1)\n",
    "hire_date DATE\n",
    "\n",
    "salaries\n",
    "-\n",
    "emp_no INT PK FK - employees.emp_no\n",
    "salary INT\n",
    "\n",
    "titles\n",
    "-\n",
    "title_id VARCHAR(30) PK\n",
    "title VARCHAR(30)"
   ]
  }
 ],
 "metadata": {
  "kernelspec": {
   "display_name": "Python 3 (ipykernel)",
   "language": "python",
   "name": "python3"
  },
  "language_info": {
   "codemirror_mode": {
    "name": "ipython",
    "version": 3
   },
   "file_extension": ".py",
   "mimetype": "text/x-python",
   "name": "python",
   "nbconvert_exporter": "python",
   "pygments_lexer": "ipython3",
   "version": "3.9.13"
  }
 },
 "nbformat": 4,
 "nbformat_minor": 5
}
